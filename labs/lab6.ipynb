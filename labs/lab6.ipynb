{
 "cells": [
  {
   "cell_type": "markdown",
   "metadata": {},
   "source": [
    "## `array.array` and `np.array`\n",
    "\n",
    "### array.array\n",
    "\n",
    "The list type is nice and very flexible, but if you need to store many many (millions) of floating point variables, array.array is a better option. It stores just the bytes representing the type, so its just like a contiguous C array of things in RAM, and also just like a numpy array. \n",
    "\n",
    "`array.array` IS mutable, and you dont need to allocate ahead of time (reallocation will be done).\n",
    "\n",
    "The constructor is: \n",
    "\n",
    "`array(typecode [, initializer]) -- create a new array`\n",
    "\n"
   ]
  },
  {
   "cell_type": "code",
   "execution_count": 31,
   "metadata": {
    "collapsed": true
   },
   "outputs": [],
   "source": [
    "from array import array\n",
    "from random import random\n",
    "#generator expression instead of list comprehension\n",
    "floats_aa=array('d', (random() for i in range(10**8)))"
   ]
  },
  {
   "cell_type": "code",
   "execution_count": 32,
   "metadata": {
    "collapsed": false
   },
   "outputs": [
    {
     "data": {
      "text/plain": [
       "8"
      ]
     },
     "execution_count": 32,
     "metadata": {},
     "output_type": "execute_result"
    }
   ],
   "source": [
    "floats_aa.itemsize"
   ]
  },
  {
   "cell_type": "code",
   "execution_count": 33,
   "metadata": {
    "collapsed": false
   },
   "outputs": [
    {
     "data": {
      "text/plain": [
       "(array.array, 0.06347468552019986)"
      ]
     },
     "execution_count": 33,
     "metadata": {},
     "output_type": "execute_result"
    }
   ],
   "source": [
    "type(floats_aa), floats_aa[5]"
   ]
  },
  {
   "cell_type": "markdown",
   "metadata": {},
   "source": [
    "### Numpy arrays\n",
    "\n",
    "I'll refer you to their quickstart in case you have not already worked with them. Bottom line: they need a size!\n",
    "\n",
    "https://docs.scipy.org/doc/numpy-dev/user/quickstart.html\n"
   ]
  },
  {
   "cell_type": "code",
   "execution_count": 35,
   "metadata": {
    "collapsed": false
   },
   "outputs": [],
   "source": [
    "import numpy as np\n",
    "af_array = np.array([1,2,3], dtype=\"float64\")"
   ]
  },
  {
   "cell_type": "code",
   "execution_count": 36,
   "metadata": {
    "collapsed": false
   },
   "outputs": [
    {
     "data": {
      "text/plain": [
       "array([ 1.,  2.,  3.])"
      ]
     },
     "execution_count": 36,
     "metadata": {},
     "output_type": "execute_result"
    }
   ],
   "source": [
    "af_array"
   ]
  },
  {
   "cell_type": "code",
   "execution_count": 37,
   "metadata": {
    "collapsed": false
   },
   "outputs": [
    {
     "data": {
      "text/plain": [
       "(dtype('float64'), (3,), 1)"
      ]
     },
     "execution_count": 37,
     "metadata": {},
     "output_type": "execute_result"
    }
   ],
   "source": [
    "af_array.dtype, af_array.shape, af_array.ndim"
   ]
  },
  {
   "cell_type": "code",
   "execution_count": 41,
   "metadata": {
    "collapsed": false
   },
   "outputs": [],
   "source": [
    "af_array_2 = np.ones(shape=10, dtype=int)"
   ]
  },
  {
   "cell_type": "code",
   "execution_count": 42,
   "metadata": {
    "collapsed": false
   },
   "outputs": [
    {
     "data": {
      "text/plain": [
       "array([1, 1, 1, 1, 1, 1, 1, 1, 1, 1])"
      ]
     },
     "execution_count": 42,
     "metadata": {},
     "output_type": "execute_result"
    }
   ],
   "source": [
    "af_array_2"
   ]
  },
  {
   "cell_type": "code",
   "execution_count": 43,
   "metadata": {
    "collapsed": true
   },
   "outputs": [],
   "source": [
    "af_array_3 = np.ones(shape=(10,), dtype=\"float32\")"
   ]
  },
  {
   "cell_type": "code",
   "execution_count": 44,
   "metadata": {
    "collapsed": false
   },
   "outputs": [
    {
     "data": {
      "text/plain": [
       "array([ 1.,  1.,  1.,  1.,  1.,  1.,  1.,  1.,  1.,  1.], dtype=float32)"
      ]
     },
     "execution_count": 44,
     "metadata": {},
     "output_type": "execute_result"
    }
   ],
   "source": [
    "af_array_3"
   ]
  },
  {
   "cell_type": "markdown",
   "metadata": {},
   "source": [
    "## Where do trees arise\n",
    "\n",
    "A tree is:\n",
    "\n",
    "- a hierarchical data structure that has a bunch of items,\n",
    "- each of which may have a value\n",
    "- some of which may point to other such items, and some that dont (leaf nodes)\n",
    "- each item is pointed to by exactly one other item, with the sole exception of the root.\n",
    "\n",
    "\n",
    "Trees arise everywhere:\n",
    "\n",
    "- in parsing of code\n",
    "- evolutionary trees in biology\n",
    "- language origin trees\n",
    "- unix file system\n",
    "- html tags on this page\n",
    "\n",
    "Just like with lists, one can consider looking at a tree in two ways: a collection of nodes, or a tree with a root and multiple sub-tree's.\n"
   ]
  },
  {
   "cell_type": "markdown",
   "metadata": {},
   "source": [
    "### Parsing into a Tree\n",
    "\n",
    "Consider writing a small calculator language, which takes calculator expressions written in an prefix format, and calculates them for us.\n",
    "\n",
    "Parsing is the idea of generating an expression tree from code text. A parser has 2 components:\n",
    "\n",
    "1. a lexical analyser or lexer which converts code into tokens\n",
    "2. a syntactic analyzer which constructs an expression tree from these tokens\n",
    "\n",
    "Here is code for our infix calculator. We have no variables, and no precedence, to keep things simple. Brackets need to be explicit.\n",
    "\n",
    "`(+ 1 (* 2 3)) = 7`\n",
    "\n",
    " We will need to **parse** this expression: the output will be a parse tree. For simplicity we will assume that all operations are binary, and thus represent the parse tree is a binary tree..."
   ]
  },
  {
   "cell_type": "code",
   "execution_count": 1,
   "metadata": {
    "collapsed": true
   },
   "outputs": [],
   "source": [
    "from IPython.display import Image"
   ]
  },
  {
   "cell_type": "code",
   "execution_count": 2,
   "metadata": {
    "collapsed": true
   },
   "outputs": [],
   "source": [
    "import uuid\n",
    "class BinaryTree:\n",
    "    def __init__(self, value, parent=None):\n",
    "        self.value = value\n",
    "        self.parent = parent\n",
    "        self.uuid= uuid.uuid4()\n",
    "        self.left = None\n",
    "        self.right = None\n",
    "\n",
    "    def addLeftChild(self, value): \n",
    "        n = BinaryTree(value, self)\n",
    "        self.left = n\n",
    "        return n\n",
    "        \n",
    "    def addRightChild(self, value):\n",
    "        n = BinaryTree(value, self)\n",
    "        self.right = n\n",
    "        return n\n",
    "        \n",
    "    def hasLeftChild(self):\n",
    "        return self.left != None\n",
    "\n",
    "    def hasRightChild(self):\n",
    "        return self.right != None\n",
    "\n",
    "    def isLeftChild(self):\n",
    "        return self.parent and self.parent.left == self\n",
    "\n",
    "    def isRightChild(self):\n",
    "        return self.parent and self.parent.right == self\n",
    "\n",
    "    def isRoot(self):\n",
    "        return not self.parent\n",
    "\n",
    "    def isLeaf(self):\n",
    "        return not (self.right or self.left)\n",
    "    \n",
    "    def preorder(self):\n",
    "        if self.isLeftChild():\n",
    "            yield (self.parent.value, self.parent.uuid, self.value, self.uuid, \"left\")\n",
    "        elif self.isRightChild():\n",
    "            yield (self.parent.value, self.parent.uuid, self.value, self.uuid, \"right\")\n",
    "        if self.hasLeftChild():\n",
    "            for v in self.left.preorder():\n",
    "                yield v\n",
    "        if self.hasRightChild():\n",
    "            for v in self.right.preorder():\n",
    "                yield v\n"
   ]
  },
  {
   "cell_type": "code",
   "execution_count": 3,
   "metadata": {
    "collapsed": false
   },
   "outputs": [
    {
     "data": {
      "text/plain": [
       "<__main__.BinaryTree at 0x10585eb70>"
      ]
     },
     "execution_count": 3,
     "metadata": {},
     "output_type": "execute_result"
    }
   ],
   "source": [
    "junk = BinaryTree(5)\n",
    "l = junk.addLeftChild(3)\n",
    "r = junk.addRightChild(31)\n",
    "l.addLeftChild(8)\n",
    "l.addRightChild(3)\n",
    "r.addRightChild(22)"
   ]
  },
  {
   "cell_type": "code",
   "execution_count": 4,
   "metadata": {
    "collapsed": false
   },
   "outputs": [
    {
     "data": {
      "text/plain": [
       "(True, <__main__.BinaryTree at 0x10585e8d0>, 3)"
      ]
     },
     "execution_count": 4,
     "metadata": {},
     "output_type": "execute_result"
    }
   ],
   "source": [
    "junk.hasLeftChild(), junk.left, junk.left.value"
   ]
  },
  {
   "cell_type": "code",
   "execution_count": 5,
   "metadata": {
    "collapsed": false
   },
   "outputs": [
    {
     "data": {
      "text/plain": [
       "(3, 3)"
      ]
     },
     "execution_count": 5,
     "metadata": {},
     "output_type": "execute_result"
    }
   ],
   "source": [
    "l.value, l.right.value"
   ]
  },
  {
   "cell_type": "code",
   "execution_count": 6,
   "metadata": {
    "collapsed": false
   },
   "outputs": [
    {
     "data": {
      "text/plain": [
       "<generator object BinaryTree.preorder at 0x1052ce990>"
      ]
     },
     "execution_count": 6,
     "metadata": {},
     "output_type": "execute_result"
    }
   ],
   "source": [
    "junk.preorder()"
   ]
  },
  {
   "cell_type": "code",
   "execution_count": 9,
   "metadata": {
    "collapsed": true
   },
   "outputs": [],
   "source": [
    "import subprocess\n",
    "def plotbtree(btree, fname):\n",
    "    start=\"\"\"\n",
    "    digraph G {\n",
    "    nodesep=0.3;\n",
    "    ranksep=0.2;\n",
    "    margin=0.1;\n",
    "    node [shape=circle];\n",
    "    edge [arrowsize=0.8];\n",
    "    \"\"\"\n",
    "    end = \"}\"\n",
    "    assert btree.isRoot(), \"Must start at root\"\n",
    "    lines=\"\"\n",
    "    labeldict={}\n",
    "    for t in btree.preorder():\n",
    "        if not t[1] in labeldict:\n",
    "            labeldict[t[1]]=t[0]\n",
    "        if not t[3] in labeldict:\n",
    "            labeldict[t[3]]=t[2]\n",
    "        lines = lines + \"\\\"{}\\\" -> \\\"{}\\\"[side={}];\\n\".format(t[1],t[3],t[4])\n",
    "    end=\"\\n\".join([\"\\\"{}\\\"[label=\\\"{}\\\"]\".format(k,v) for (k, v) in labeldict.items()])+end\n",
    "    start = start + lines +end\n",
    "    with open(fname+\".dot\",\"w\") as fd:\n",
    "        fd.write(start)\n",
    "    #comment out if needed\n",
    "    subprocess.call(['./treeplot.sh', fname])"
   ]
  },
  {
   "cell_type": "markdown",
   "metadata": {},
   "source": [
    "You can plot resultant graphs online as well: http://sandbox.kidstrythisathome.com/erdos/"
   ]
  },
  {
   "cell_type": "code",
   "execution_count": 10,
   "metadata": {
    "collapsed": false
   },
   "outputs": [],
   "source": [
    "plotbtree(junk, \"junk\")"
   ]
  },
  {
   "cell_type": "code",
   "execution_count": 11,
   "metadata": {
    "collapsed": false
   },
   "outputs": [
    {
     "name": "stdout",
     "output_type": "stream",
     "text": [
      "\r\n",
      "    digraph G {\r\n",
      "    nodesep=0.3;\r\n",
      "    ranksep=0.2;\r\n",
      "    margin=0.1;\r\n",
      "    node [shape=circle];\r\n",
      "    edge [arrowsize=0.8];\r\n",
      "    \"09f537a7-1c88-4300-9e26-964d3d8e77fc\" -> \"d66b4154-38d3-4301-8e67-b3fc732c6777\"[side=left];\r\n",
      "\"d66b4154-38d3-4301-8e67-b3fc732c6777\" -> \"8b6dbfd4-0802-4bb7-a444-9f0e0a297abe\"[side=left];\r\n",
      "\"d66b4154-38d3-4301-8e67-b3fc732c6777\" -> \"a0653803-1abd-41dd-9aba-0a7d32974f5b\"[side=right];\r\n",
      "\"09f537a7-1c88-4300-9e26-964d3d8e77fc\" -> \"52c02359-d5a7-47ab-8efe-45f0b8013fdc\"[side=right];\r\n",
      "\"52c02359-d5a7-47ab-8efe-45f0b8013fdc\" -> \"2d7b6ad3-746f-465f-a7e8-99eda186daa1\"[side=right];\r\n",
      "\"09f537a7-1c88-4300-9e26-964d3d8e77fc\"[label=\"5\"]\r\n",
      "\"2d7b6ad3-746f-465f-a7e8-99eda186daa1\"[label=\"22\"]\r\n",
      "\"d66b4154-38d3-4301-8e67-b3fc732c6777\"[label=\"3\"]\r\n",
      "\"a0653803-1abd-41dd-9aba-0a7d32974f5b\"[label=\"3\"]\r\n",
      "\"8b6dbfd4-0802-4bb7-a444-9f0e0a297abe\"[label=\"8\"]\r\n",
      "\"52c02359-d5a7-47ab-8efe-45f0b8013fdc\"[label=\"31\"]}"
     ]
    }
   ],
   "source": [
    "!cat junk.dot"
   ]
  },
  {
   "cell_type": "code",
   "execution_count": 12,
   "metadata": {
    "collapsed": false
   },
   "outputs": [
    {
     "data": {
      "image/png": "[encoded data removed]",
      "text/plain": [
       "<IPython.core.display.Image object>"
      ]
     },
     "execution_count": 12,
     "metadata": {},
     "output_type": "execute_result"
    }
   ],
   "source": [
    "Image(\"junk.png\")"
   ]
  },
  {
   "cell_type": "code",
   "execution_count": 29,
   "metadata": {
    "collapsed": false
   },
   "outputs": [
    {
     "name": "stdout",
     "output_type": "stream",
     "text": [
      "#!/bin/sh\r\n",
      "dot $1.dot | gvpr -c -ftree.gv | neato -n -Tpng -o $1.png\r\n"
     ]
    }
   ],
   "source": [
    "!cat treeplot.sh"
   ]
  },
  {
   "cell_type": "code",
   "execution_count": 30,
   "metadata": {
    "collapsed": false
   },
   "outputs": [
    {
     "name": "stdout",
     "output_type": "stream",
     "text": [
      "BEGIN {\r\n",
      "  double tw[node_t];    // width of tree rooted at node\r\n",
      "  double nw[node_t];    // width of node\r\n",
      "  double xoff[node_t];  // x offset of root from left side of its tree\r\n",
      "  double sp = 36;       // extra space between left and right subtrees\r\n",
      "  double wd, w, w1, w2; \r\n",
      "  double x, y, z;\r\n",
      "  edge_t e1, e2;\r\n",
      "  node_t n;\r\n",
      "}\r\n",
      "BEG_G {\r\n",
      "  $.bb = \"\";\r\n",
      "  $tvtype=TV_postfwd;   // visit root after all children visited\r\n",
      "}\r\n",
      "N {\r\n",
      "  sscanf ($.width, \"%f\", &w);\r\n",
      "  w *= 72;  // convert inches to points\r\n",
      "  nw[$] = w;\r\n",
      "  if ($.outdegree == 0) {\r\n",
      "    tw[$] = w;\r\n",
      "    xoff[$] = w/2.0;\r\n",
      "  }\r\n",
      "  else if ($.outdegree == 1) {\r\n",
      "    e1 = fstout($);\r\n",
      "    w1 = tw[e1.head];    \r\n",
      "    tw[$] = w1 + (sp+w)/2.0;\r\n",
      "    if (e1.side == \"left\")\r\n",
      "      xoff[$] = tw[$] - w/2.0;\r\n",
      "    else\r\n",
      "      xoff[$] = w/2.0;\r\n",
      "  }\r\n",
      "  else {\r\n",
      "    e1 = fstout($);\r\n",
      "    w1 = tw[e1.head];    \r\n",
      "    e2 = nxtout(e1);\r\n",
      "    w2 = tw[e2.head];    \r\n",
      "    wd = w1 + w2 + sp;\r\n",
      "    if (w > wd)\r\n",
      "      wd = w;\r\n",
      "    tw[$] = wd;\r\n",
      "    xoff[$] = w1 + sp/2.0;\r\n",
      "  }\r\n",
      "}\r\n",
      "BEG_G {\r\n",
      "  $tvtype=TV_fwd;   // visit root first, then children\r\n",
      "}\r\n",
      "N {\r\n",
      "  if ($.indegree == 0) {\r\n",
      "    sscanf ($.pos, \"%f,%f\", &x, &y);\r\n",
      "    $.pos = sprintf(\"0,%f\", y);\r\n",
      "  }\r\n",
      "  if ($.outdegree == 0) return;\r\n",
      "  sscanf ($.pos, \"%f,%f\", &x, &y);\r\n",
      "  wd = tw[$];\r\n",
      "  e1 = fstout($);\r\n",
      "  n = e1.head;\r\n",
      "  sscanf (n.pos, \"%f,%f\", &z, &y);\r\n",
      "  if ($.outdegree == 1) {\r\n",
      "    if (e1.side == \"left\")\r\n",
      "      n.pos = sprintf(\"%f,%f\",  x - tw[n] - sp/2.0 + xoff[n], y);\r\n",
      "    else\r\n",
      "      n.pos = sprintf(\"%f,%f\", x + sp/2.0 + xoff[n], y);\r\n",
      "  }\r\n",
      "  else {\r\n",
      "    n.pos = sprintf(\"%f,%f\", x - tw[n] - sp/2.0 + xoff[n], y);\r\n",
      "    e2 = nxtout(e1);\r\n",
      "    n = e2.head;\r\n",
      "    sscanf (n.pos, \"%f,%f\", &z, &y);\r\n",
      "    n.pos = sprintf(\"%f,%f\", x + sp/2.0 + xoff[n], y);\r\n",
      "  }\r\n",
      "}\r\n"
     ]
    }
   ],
   "source": [
    "!cat tree.gv"
   ]
  },
  {
   "cell_type": "markdown",
   "metadata": {},
   "source": [
    "### Lexing"
   ]
  },
  {
   "cell_type": "code",
   "execution_count": 13,
   "metadata": {
    "collapsed": false
   },
   "outputs": [],
   "source": [
    "import string\n",
    "#some code from composing programs\n",
    "_WHITESPACE = set(' \\t\\n\\r')\n",
    "_NUMERAL_STARTS = set(string.digits) | set('+-.')\n",
    "_SINGLE_CHAR_TOKENS = set(\"()\")\n",
    "_TOKEN_END = _WHITESPACE | _SINGLE_CHAR_TOKENS\n",
    "_SYMBOL_STARTS = set('%*/+-^') \n",
    "_SYMBOL_INNERS = set(string.digits) | set('+-.')\n",
    "\n",
    "def next_token(expression, pos):\n",
    "    while pos < len(expression):\n",
    "        c = expression[pos]\n",
    "        if c in _WHITESPACE:\n",
    "            pos += 1\n",
    "        elif c in _SINGLE_CHAR_TOKENS:\n",
    "            #print(\">c\",c)\n",
    "            return c, (pos + 1)\n",
    "        else:#a numerical expression or operator\n",
    "            j = pos\n",
    "            while j < len(expression) and expression[j] not in _TOKEN_END:\n",
    "                j += 1\n",
    "            #print('c>',expression[pos:j])\n",
    "            return expression[pos:j], min(j, len(expression))\n",
    "    return None, len(expression)\n",
    "\n",
    "def valid_symbol(s):\n",
    "    if len(s) == 0 or s not in _SYMBOL_STARTS:\n",
    "        return False\n",
    "    return True\n",
    "\n",
    "def lex(expression):\n",
    "    \"\"\"\n",
    "    An expression parser\n",
    "    \n",
    "    >>> lex('(+ 1 (* 23 3))')\n",
    "    ['(', '+', 1, '(', '*', 23, 3, ')', ')']\n",
    "    >>> lex('(+ 1 (* 23 -3))')\n",
    "    ['(', '+', 1, '(', '*', 23, -3, ')', ')']\n",
    "    >>> lex('(+ 1 (* 23 -3e03))')\n",
    "    ['(', '+', 1, '(', '*', 23, -3000.0, ')', ')']\n",
    "    >>> lex('(+ (* 2 3) (* 23 3))')\n",
    "    ['(', '+', '(', '*', 2, 3, ')', '(', '*', 23, 3, ')', ')']\n",
    "    \"\"\"\n",
    "    elen = len(expression)\n",
    "    tokens=[]\n",
    "    text, i = next_token(expression, 0)\n",
    "    while text is not None:\n",
    "        #print(text, expression)\n",
    "        if text in _SINGLE_CHAR_TOKENS:\n",
    "            tokens.append(text)\n",
    "        elif text[0] in _SYMBOL_STARTS and valid_symbol(text):\n",
    "            tokens.append(text)\n",
    "        elif text[0] in _NUMERAL_STARTS:\n",
    "            try:\n",
    "                tokens.append(int(text))\n",
    "            except ValueError:\n",
    "                try:\n",
    "                    tokens.append(float(text))\n",
    "                except ValueError:\n",
    "                    raise ValueError(\"invalid numeral: {0}\".format(text))\n",
    "        \n",
    "        text, i = next_token(expression, i)\n",
    "    return tokens"
   ]
  },
  {
   "cell_type": "code",
   "execution_count": 14,
   "metadata": {
    "collapsed": false
   },
   "outputs": [
    {
     "data": {
      "text/plain": [
       "['(', '+', '(', '*', 2, 3, ')', '(', '*', 23, 3, ')', ')']"
      ]
     },
     "execution_count": 14,
     "metadata": {},
     "output_type": "execute_result"
    }
   ],
   "source": [
    "lex('(+ (* 2 3) (* 23 3))')"
   ]
  },
  {
   "cell_type": "code",
   "execution_count": 15,
   "metadata": {
    "collapsed": false
   },
   "outputs": [
    {
     "name": "stdout",
     "output_type": "stream",
     "text": [
      "Finding tests in NoName\n",
      "Trying:\n",
      "    lex('(+ 1 (* 23 3))')\n",
      "Expecting:\n",
      "    ['(', '+', 1, '(', '*', 23, 3, ')', ')']\n",
      "ok\n",
      "Trying:\n",
      "    lex('(+ 1 (* 23 -3))')\n",
      "Expecting:\n",
      "    ['(', '+', 1, '(', '*', 23, -3, ')', ')']\n",
      "ok\n",
      "Trying:\n",
      "    lex('(+ 1 (* 23 -3e03))')\n",
      "Expecting:\n",
      "    ['(', '+', 1, '(', '*', 23, -3000.0, ')', ')']\n",
      "ok\n",
      "Trying:\n",
      "    lex('(+ (* 2 3) (* 23 3))')\n",
      "Expecting:\n",
      "    ['(', '+', '(', '*', 2, 3, ')', '(', '*', 23, 3, ')', ')']\n",
      "ok\n"
     ]
    }
   ],
   "source": [
    "from doctest import run_docstring_examples as dtest\n",
    "dtest(lex, globals(), verbose=True)"
   ]
  },
  {
   "cell_type": "markdown",
   "metadata": {},
   "source": [
    "### Syntactic Analysis \n",
    "\n",
    "...to get the tree.."
   ]
  },
  {
   "cell_type": "code",
   "execution_count": 16,
   "metadata": {
    "collapsed": false
   },
   "outputs": [],
   "source": [
    "def syn(tokens):\n",
    "    currentTree = None\n",
    "    stack = []\n",
    "    for i, c in enumerate(tokens):\n",
    "        if c == '(':\n",
    "            if currentTree is not None:\n",
    "                if currentTree.left is None:\n",
    "                    ntree = currentTree.addLeftChild(tokens[i+1])\n",
    "                else:\n",
    "                    ntree = currentTree.addRightChild(tokens[i+1])\n",
    "            else:\n",
    "                ntree = BinaryTree(tokens[i+1])\n",
    "            stack.append(ntree)\n",
    "            currentTree = ntree\n",
    "        elif c in _SYMBOL_STARTS:\n",
    "            assert currentTree.value == c, \"op should follow (\"\n",
    "        elif c not in _SYMBOL_STARTS | _SINGLE_CHAR_TOKENS: #number\n",
    "            if currentTree.left is None:\n",
    "                leaf = currentTree.addLeftChild(c)\n",
    "            else:\n",
    "                leaf = currentTree.addRightChild(c)\n",
    "        elif c==')':\n",
    "            if len(stack) > 1:\n",
    "                stack.pop()\n",
    "            currentTree=stack[-1]\n",
    "    stack.pop()\n",
    "    return currentTree"
   ]
  },
  {
   "cell_type": "code",
   "execution_count": 17,
   "metadata": {
    "collapsed": false
   },
   "outputs": [],
   "source": [
    "t = syn(lex('(+ (* 2 3) (* 23 3))'))"
   ]
  },
  {
   "cell_type": "code",
   "execution_count": 18,
   "metadata": {
    "collapsed": false
   },
   "outputs": [
    {
     "data": {
      "text/plain": [
       "('+', '*', '*')"
      ]
     },
     "execution_count": 18,
     "metadata": {},
     "output_type": "execute_result"
    }
   ],
   "source": [
    "t.value, t.left.value, t.right.value"
   ]
  },
  {
   "cell_type": "code",
   "execution_count": 19,
   "metadata": {
    "collapsed": false
   },
   "outputs": [
    {
     "data": {
      "text/plain": [
       "<__main__.BinaryTree at 0x10590e128>"
      ]
     },
     "execution_count": 19,
     "metadata": {},
     "output_type": "execute_result"
    }
   ],
   "source": [
    "syn(lex('(+ 1 (* 23 3))'))"
   ]
  },
  {
   "cell_type": "code",
   "execution_count": 20,
   "metadata": {
    "collapsed": false
   },
   "outputs": [
    {
     "data": {
      "text/plain": [
       "<__main__.BinaryTree at 0x10590e5f8>"
      ]
     },
     "execution_count": 20,
     "metadata": {},
     "output_type": "execute_result"
    }
   ],
   "source": [
    "syn(lex('(+ (* 2 3) (* 23 3))'))"
   ]
  },
  {
   "cell_type": "code",
   "execution_count": 21,
   "metadata": {
    "collapsed": false
   },
   "outputs": [],
   "source": [
    "plotbtree(syn(lex('(+ (* 2 3) (* 23 3))')), 'exptree')"
   ]
  },
  {
   "cell_type": "code",
   "execution_count": 22,
   "metadata": {
    "collapsed": false
   },
   "outputs": [
    {
     "name": "stdout",
     "output_type": "stream",
     "text": [
      "\r\n",
      "    digraph G {\r\n",
      "    nodesep=0.3;\r\n",
      "    ranksep=0.2;\r\n",
      "    margin=0.1;\r\n",
      "    node [shape=circle];\r\n",
      "    edge [arrowsize=0.8];\r\n",
      "    \"516f758e-8d7f-4915-8578-df7db7464755\" -> \"86bbfc6c-2874-4319-b091-cdc087559263\"[side=left];\r\n",
      "\"86bbfc6c-2874-4319-b091-cdc087559263\" -> \"465e9946-333e-4f11-92e4-7568ced4ee7b\"[side=left];\r\n",
      "\"86bbfc6c-2874-4319-b091-cdc087559263\" -> \"af894423-0b2a-4c76-94b5-7ae659240352\"[side=right];\r\n",
      "\"516f758e-8d7f-4915-8578-df7db7464755\" -> \"f7134db6-8672-42db-8f32-09b00e792b8e\"[side=right];\r\n",
      "\"f7134db6-8672-42db-8f32-09b00e792b8e\" -> \"e55ddeeb-04d5-4f73-8c1b-f6b5c5725545\"[side=left];\r\n",
      "\"f7134db6-8672-42db-8f32-09b00e792b8e\" -> \"a3edd88f-1d3a-481d-b161-38bed2e70cc0\"[side=right];\r\n",
      "\"86bbfc6c-2874-4319-b091-cdc087559263\"[label=\"*\"]\r\n",
      "\"516f758e-8d7f-4915-8578-df7db7464755\"[label=\"+\"]\r\n",
      "\"a3edd88f-1d3a-481d-b161-38bed2e70cc0\"[label=\"3\"]\r\n",
      "\"f7134db6-8672-42db-8f32-09b00e792b8e\"[label=\"*\"]\r\n",
      "\"465e9946-333e-4f11-92e4-7568ced4ee7b\"[label=\"2\"]\r\n",
      "\"e55ddeeb-04d5-4f73-8c1b-f6b5c5725545\"[label=\"23\"]\r\n",
      "\"af894423-0b2a-4c76-94b5-7ae659240352\"[label=\"3\"]}"
     ]
    }
   ],
   "source": [
    "!cat exptree.dot"
   ]
  },
  {
   "cell_type": "code",
   "execution_count": 23,
   "metadata": {
    "collapsed": false
   },
   "outputs": [
    {
     "data": {
      "image/png": "[encoded data removed]",
      "text/plain": [
       "<IPython.core.display.Image object>"
      ]
     },
     "execution_count": 23,
     "metadata": {},
     "output_type": "execute_result"
    }
   ],
   "source": [
    "Image('exptree.png')"
   ]
  },
  {
   "cell_type": "markdown",
   "metadata": {},
   "source": [
    "### Tree traversal\n",
    "\n",
    "We need to decide how we plan to tracerse the tree. There are 3 choices, based on **an implicit ordering** of the tree from left to right\n",
    "\n",
    "- In-order: visit left-subtree, then current node, then right sub tree\n",
    "- Post-order: do child nodes first, and then current node\n",
    "- Pre-order: do current node, then children\n",
    "\n",
    "By visit ot do i mean the execution of some operation. For example, consider the filesystem tree. Order does not matter there, but say removing files in a directory before remoc=ving a directory makes sense: this is post-order. similarly to find size of a folder.\n",
    "\n",
    "Pre-order is rarely used (although we did use it to write a pre-order iterator for the binary tree just now to output stuff in the dot language)."
   ]
  },
  {
   "cell_type": "code",
   "execution_count": 24,
   "metadata": {
    "collapsed": true
   },
   "outputs": [],
   "source": [
    "def preorder_traverse(tree, func):\n",
    "    if tree:\n",
    "        func(tree.value)\n",
    "        preorder_traverse(tree.left, func)\n",
    "        preorder_traverse(tree.right, func)\n",
    "def inorder_traverse(tree, func):\n",
    "    if tree:\n",
    "        inorder_traverse(tree.left, func)\n",
    "        func(tree.value)\n",
    "        inorder_traverse(tree.right, func)\n",
    "def postorder_traverse(tree, func):\n",
    "    if tree:\n",
    "        r1=postorder_traverse(tree.left, func)\n",
    "        r2=postorder_traverse(tree.right, func)\n",
    "        return func(tree.value, r1, r2)"
   ]
  },
  {
   "cell_type": "markdown",
   "metadata": {},
   "source": [
    "Ok, so lets support some simple ops...by delegating our \"languages\" ops to python :-)"
   ]
  },
  {
   "cell_type": "code",
   "execution_count": 25,
   "metadata": {
    "collapsed": false
   },
   "outputs": [],
   "source": [
    "from operator import add, sub, mul, pow, mod, truediv\n",
    "OPDICT={\n",
    "    '+': add,\n",
    "    '-': sub,\n",
    "    '*': mul,\n",
    "    '/': truediv,\n",
    "    '%': mod,\n",
    "    '^': pow\n",
    "}\n",
    "def eval_exp(v, x, y):\n",
    "    if x is not None and y is not None:\n",
    "        return OPDICT[v](x,y)\n",
    "    else:\n",
    "        return v"
   ]
  },
  {
   "cell_type": "code",
   "execution_count": 26,
   "metadata": {
    "collapsed": false
   },
   "outputs": [
    {
     "data": {
      "text/plain": [
       "70"
      ]
     },
     "execution_count": 26,
     "metadata": {},
     "output_type": "execute_result"
    }
   ],
   "source": [
    "postorder_traverse(syn(lex('(+ 1 (* 23 3))')), eval_exp)"
   ]
  },
  {
   "cell_type": "code",
   "execution_count": 27,
   "metadata": {
    "collapsed": false
   },
   "outputs": [
    {
     "data": {
      "text/plain": [
       "77.66666666666667"
      ]
     },
     "execution_count": 27,
     "metadata": {},
     "output_type": "execute_result"
    }
   ],
   "source": [
    "postorder_traverse(syn(lex('(+ 1 (* 23 (/ 1 .3)))')), eval_exp)"
   ]
  },
  {
   "cell_type": "code",
   "execution_count": 28,
   "metadata": {
    "collapsed": false
   },
   "outputs": [
    {
     "data": {
      "text/plain": [
       "75"
      ]
     },
     "execution_count": 28,
     "metadata": {},
     "output_type": "execute_result"
    }
   ],
   "source": [
    "postorder_traverse(syn(lex('(+ (* 2 3) (* 23 3))')), eval_exp)"
   ]
  },
  {
   "cell_type": "code",
   "execution_count": null,
   "metadata": {
    "collapsed": true
   },
   "outputs": [],
   "source": []
  }
 ],
 "metadata": {
  "anaconda-cloud": {},
  "kernelspec": {
   "display_name": "Python [default]",
   "language": "python",
   "name": "python3"
  },
  "language_info": {
   "codemirror_mode": {
    "name": "ipython",
    "version": 3
   },
   "file_extension": ".py",
   "mimetype": "text/x-python",
   "name": "python",
   "nbconvert_exporter": "python",
   "pygments_lexer": "ipython3",
   "version": "3.5.2"
  }
 },
 "nbformat": 4,
 "nbformat_minor": 0
}
